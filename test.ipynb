{
 "cells": [
  {
   "cell_type": "code",
   "execution_count": 3,
   "metadata": {},
   "outputs": [],
   "source": [
    "import torch\n",
    "import numpy as np"
   ]
  },
  {
   "cell_type": "code",
   "execution_count": 4,
   "metadata": {},
   "outputs": [],
   "source": [
    "class SerializedBuffer:\n",
    "    def __init__(self, path, device):\n",
    "        tmp = torch.load(path)\n",
    "        self.buffer_size = self._n = tmp['state'].size(0)\n",
    "        self.device = device\n",
    "\n",
    "        self.states = tmp['state'].clone().to(self.device)\n",
    "        self.actions = tmp['action'].clone().to(self.device)\n",
    "        self.rewards = tmp['reward'].clone().to(self.device)\n",
    "        self.dones = tmp['done'].clone().to(self.device)\n",
    "        self.next_states = tmp['next_state'].clone().to(self.device)\n",
    "\n",
    "    def sample(self, batch_size):\n",
    "        idxes = np.random.randint(low=0, high=self._n, size=batch_size)\n",
    "        return (\n",
    "            self.states[idxes],\n",
    "            self.actions[idxes],\n",
    "            self.rewards[idxes],\n",
    "            self.dones[idxes],\n",
    "            self.next_states[idxes]\n",
    "        )"
   ]
  },
  {
   "cell_type": "code",
   "execution_count": 5,
   "metadata": {},
   "outputs": [],
   "source": [
    "exp_path = \"buffers/InvertedPendulum-v2/size1000000_std0.01_prand0.0.pth\"\n",
    "trace_exp = SerializedBuffer(path=exp_path, device=\"cpu\")"
   ]
  },
  {
   "cell_type": "code",
   "execution_count": 8,
   "metadata": {},
   "outputs": [
    {
     "name": "stdout",
     "output_type": "stream",
     "text": [
      "torch.Size([1000000, 4])\n",
      "torch.Size([1000000, 1])\n",
      "torch.Size([1000000, 1])\n",
      "torch.Size([1000000, 1])\n"
     ]
    }
   ],
   "source": [
    "print(trace_exp.states.shape)\n",
    "print(trace_exp.actions.shape)\n",
    "print(trace_exp.rewards.shape)\n",
    "print(trace_exp.dones.shape)"
   ]
  },
  {
   "cell_type": "code",
   "execution_count": 9,
   "metadata": {},
   "outputs": [
    {
     "data": {
      "text/plain": [
       "tensor([[-0.0089,  0.0093,  0.0027, -0.0042]])"
      ]
     },
     "execution_count": 9,
     "metadata": {},
     "output_type": "execute_result"
    }
   ],
   "source": [
    "trace_exp.states[:1]"
   ]
  },
  {
   "cell_type": "code",
   "execution_count": 11,
   "metadata": {},
   "outputs": [
    {
     "data": {
      "text/plain": [
       "tensor([[-0.9236],\n",
       "        [ 0.0359],\n",
       "        [ 0.6258],\n",
       "        [ 0.1225],\n",
       "        [ 0.3658]])"
      ]
     },
     "execution_count": 11,
     "metadata": {},
     "output_type": "execute_result"
    }
   ],
   "source": [
    "trace_exp.actions[:5]"
   ]
  },
  {
   "cell_type": "markdown",
   "metadata": {},
   "source": [
    "### 查看环境信息"
   ]
  },
  {
   "cell_type": "code",
   "execution_count": 12,
   "metadata": {},
   "outputs": [],
   "source": [
    "import gym\n",
    "\n",
    "gym.logger.set_level(40)\n",
    "\n",
    "\n",
    "def make_env(env_id):\n",
    "    return NormalizedEnv(gym.make(env_id))\n",
    "\n",
    "\n",
    "class NormalizedEnv(gym.Wrapper):\n",
    "\n",
    "    def __init__(self, env):\n",
    "        gym.Wrapper.__init__(self, env)\n",
    "        self._max_episode_steps = env._max_episode_steps\n",
    "\n",
    "        self.scale = env.action_space.high\n",
    "        self.action_space.high /= self.scale\n",
    "        self.action_space.low /= self.scale\n",
    "\n",
    "    def step(self, action):\n",
    "        return self.env.step(action * self.scale)"
   ]
  },
  {
   "cell_type": "code",
   "execution_count": 13,
   "metadata": {},
   "outputs": [],
   "source": [
    "env = make_env(\"InvertedPendulum-v2\")"
   ]
  },
  {
   "cell_type": "code",
   "execution_count": 14,
   "metadata": {},
   "outputs": [
    {
     "name": "stdout",
     "output_type": "stream",
     "text": [
      "(4,)\n",
      "(1,)\n"
     ]
    }
   ],
   "source": [
    "print(env.observation_space.shape)\n",
    "print(env.action_space.shape)"
   ]
  },
  {
   "cell_type": "code",
   "execution_count": 2,
   "metadata": {},
   "outputs": [],
   "source": [
    "import roboschool\n",
    "import gym"
   ]
  },
  {
   "cell_type": "code",
   "execution_count": 3,
   "metadata": {},
   "outputs": [
    {
     "name": "stderr",
     "output_type": "stream",
     "text": [
      "/home/js/gailEnv/lib/python3.6/site-packages/roboschool/gym_mujoco_xml_env.py:23: UserWarning: roboschool has been deprecated in favor of PyBullet, see https://github.com/openai/roboschool#news\n",
      "  warnings.warn(\"roboschool has been deprecated in favor of PyBullet, see https://github.com/openai/roboschool#news\")\n",
      "/home/js/gailEnv/lib/python3.6/site-packages/gym/logger.py:30: UserWarning: \u001b[33mWARN: Box bound precision lowered by casting to float32\u001b[0m\n",
      "  warnings.warn(colorize('%s: %s'%('WARN', msg % args), 'yellow'))\n"
     ]
    }
   ],
   "source": [
    "env = gym.make('RoboschoolAnt-v1')\n",
    "state = env.reset()\n",
    "while True:\n",
    "    next_state, reward, done, _ = env.step(env.action_space.sample())\n",
    "    env.render()\n",
    "    if done: break"
   ]
  },
  {
   "cell_type": "code",
   "execution_count": 6,
   "metadata": {},
   "outputs": [
    {
     "name": "stdout",
     "output_type": "stream",
     "text": [
      "500000.0\n"
     ]
    }
   ],
   "source": [
    "print(5e5)"
   ]
  },
  {
   "cell_type": "code",
   "execution_count": 1,
   "metadata": {},
   "outputs": [
    {
     "data": {
      "text/plain": [
       "0.001"
      ]
     },
     "execution_count": 1,
     "metadata": {},
     "output_type": "execute_result"
    }
   ],
   "source": [
    "10 * 1e-4"
   ]
  },
  {
   "cell_type": "code",
   "execution_count": 1,
   "metadata": {},
   "outputs": [
    {
     "data": {
      "text/plain": [
       "500000.0"
      ]
     },
     "execution_count": 1,
     "metadata": {},
     "output_type": "execute_result"
    }
   ],
   "source": [
    "5e5"
   ]
  },
  {
   "cell_type": "code",
   "execution_count": null,
   "metadata": {},
   "outputs": [],
   "source": []
  }
 ],
 "metadata": {
  "interpreter": {
   "hash": "98eb2291032f9c12352cbaccde1241b822204cab3f48afe1a9dfb817464fd841"
  },
  "kernelspec": {
   "display_name": "Python 3.6.9 64-bit ('gailEnv': venv)",
   "language": "python",
   "name": "python3"
  },
  "language_info": {
   "codemirror_mode": {
    "name": "ipython",
    "version": 3
   },
   "file_extension": ".py",
   "mimetype": "text/x-python",
   "name": "python",
   "nbconvert_exporter": "python",
   "pygments_lexer": "ipython3",
   "version": "3.8.10"
  },
  "orig_nbformat": 4
 },
 "nbformat": 4,
 "nbformat_minor": 2
}
